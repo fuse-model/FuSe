{
 "cells": [
  {
   "cell_type": "code",
   "execution_count": 2,
   "source": [
    "import os \n",
    "import jax\n",
    "import jax.numpy as jnp \n",
    "from octo.model.resnet_model import ResnetModel\n",
    "from octo.model.octo_model import OctoModel\n",
    "from octo.data.utils.text_processing import MuseEmbedding\n",
    "import pickle \n",
    "from functools import partial\n",
    "os.environ['XLA_PREALLOCATE_MEMORY'] = 'False'\n",
    "os.environ['CUDA_VISIBLE_DEVICES'] = '7'"
   ],
   "outputs": [],
   "metadata": {}
  },
  {
   "cell_type": "code",
   "execution_count": 9,
   "source": [
    "from ml_collections import ConfigDict\n",
    "FLAGS = { \n",
    "    \"checkpoint_weights_path\": \"resnet_20240607_101548\", \n",
    "    \"window_size\": 4, \n",
    "    \"checkpoint_step\": 50000,\n",
    "    \"is_resnet\": True\n",
    "}\n",
    "\n",
    "FLAGS = ConfigDict(FLAGS)"
   ],
   "outputs": [],
   "metadata": {}
  },
  {
   "cell_type": "code",
   "execution_count": 47,
   "source": [
    "import octo\n",
    "import importlib \n",
    "importlib.reload(octo.model.resnet_model)\n",
    "from octo.model.resnet_model import ResnetModel"
   ],
   "outputs": [],
   "metadata": {}
  },
  {
   "cell_type": "code",
   "execution_count": 48,
   "source": [
    "import numpy as np \n",
    "if \"/\" not in FLAGS.checkpoint_weights_path: \n",
    "    FLAGS.checkpoint_weights_path = os.path.join('/home/joshwajones/tpu_octo_ckpts', FLAGS.checkpoint_weights_path)\n",
    "\n",
    "\n",
    "\n",
    "# load models\n",
    "loaded_dataset_stats = None\n",
    "load_kwargs = {\n",
    "    \"checkpoint_path\": FLAGS.checkpoint_weights_path, \n",
    "    \"step\": FLAGS.checkpoint_step,\n",
    "}\n",
    "if FLAGS.is_resnet: \n",
    "    MODELTYPE = ResnetModel\n",
    "    load_kwargs[\"text_processor\"] =  MuseEmbedding()\n",
    "    with open('./dataset_stats.pkl', 'rb') as file: \n",
    "        loaded_dataset_stats = pickle.load(file)\n",
    "    load_kwargs['dataset_statistics'] = loaded_dataset_stats\n",
    "\n",
    "else: \n",
    "    MODELTYPE = OctoModel\n",
    "\n",
    "model = MODELTYPE.load_pretrained(\n",
    "    **load_kwargs\n",
    ")\n",
    "\n",
    "\n",
    "def recursive_dict_print(dic, sep=\"\"): \n",
    "    for key, val in dic.items(): \n",
    "        print(key)\n",
    "        if isinstance(val, dict): \n",
    "            recursive_dict_print(val, sep + \"      \")\n",
    "        elif isinstance(val, np.ndarray): \n",
    "            try: \n",
    "                temp = val \n",
    "                while len(temp) > 1: \n",
    "                    temp = temp[0]\n",
    "                print(\" \", temp[0])\n",
    "            except: \n",
    "                print(val)\n",
    "        else: \n",
    "            print(\" \", val)\n",
    "\n",
    "\n",
    "dataset_statistics =  loaded_dataset_stats if FLAGS.is_resnet else model.dataset_statistics \n",
    "def sample_actions(\n",
    "    pretrained_model: MODELTYPE,\n",
    "    observations,\n",
    "    tasks,\n",
    "    rng, \n",
    "):\n",
    "    \n",
    "    # add batch dim to observations\n",
    "    observations = jax.tree_map(lambda x: x[None], observations)\n",
    "    actions = pretrained_model.sample_actions(\n",
    "        observations,\n",
    "        tasks,\n",
    "        unnormalization_statistics=dataset_statistics[\"action\"],\n",
    "        rng=rng,\n",
    "    )\n",
    "    # remove batch dim\n",
    "    return actions[0]\n",
    "\n",
    "policy_fn = partial(\n",
    "    sample_actions,\n",
    "    model,\n",
    "    rng=jax.random.PRNGKey(0)\n",
    ")\n"
   ],
   "outputs": [],
   "metadata": {}
  },
  {
   "cell_type": "code",
   "execution_count": 44,
   "source": [
    "dummy_obs = jnp.zeros((1, 2))\n",
    "dummy_tasks = jnp.zeros((1, 2))\n",
    "\n",
    "acs = policy_fn(dummy_obs, dummy_tasks)"
   ],
   "outputs": [
    {
     "output_type": "error",
     "ename": "TypeError",
     "evalue": "Dtype object is not a valid JAX array type. Only arrays of numeric types are supported by JAX.",
     "traceback": [
      "\u001b[0;31m---------------------------------------------------------------------------\u001b[0m",
      "\u001b[0;31mTypeError\u001b[0m                                 Traceback (most recent call last)",
      "Cell \u001b[0;32mIn[44], line 4\u001b[0m\n\u001b[1;32m      1\u001b[0m dummy_obs \u001b[38;5;241m=\u001b[39m jnp\u001b[38;5;241m.\u001b[39mzeros((\u001b[38;5;241m1\u001b[39m, \u001b[38;5;241m2\u001b[39m))\n\u001b[1;32m      2\u001b[0m dummy_tasks \u001b[38;5;241m=\u001b[39m jnp\u001b[38;5;241m.\u001b[39mzeros((\u001b[38;5;241m1\u001b[39m, \u001b[38;5;241m2\u001b[39m))\n\u001b[0;32m----> 4\u001b[0m acs \u001b[38;5;241m=\u001b[39m \u001b[43mpolicy_fn\u001b[49m\u001b[43m(\u001b[49m\u001b[43mdummy_obs\u001b[49m\u001b[43m,\u001b[49m\u001b[43m \u001b[49m\u001b[43mdummy_tasks\u001b[49m\u001b[43m)\u001b[49m\n",
      "Cell \u001b[0;32mIn[43], line 56\u001b[0m, in \u001b[0;36msample_actions\u001b[0;34m(pretrained_model, observations, tasks, rng)\u001b[0m\n\u001b[1;32m     46\u001b[0m \u001b[38;5;28;01mdef\u001b[39;00m \u001b[38;5;21msample_actions\u001b[39m(\n\u001b[1;32m     47\u001b[0m     pretrained_model: MODELTYPE,\n\u001b[1;32m     48\u001b[0m     observations,\n\u001b[0;32m   (...)\u001b[0m\n\u001b[1;32m     53\u001b[0m     \n\u001b[1;32m     54\u001b[0m     \u001b[38;5;66;03m# add batch dim to observations\u001b[39;00m\n\u001b[1;32m     55\u001b[0m     observations \u001b[38;5;241m=\u001b[39m jax\u001b[38;5;241m.\u001b[39mtree_map(\u001b[38;5;28;01mlambda\u001b[39;00m x: x[\u001b[38;5;28;01mNone\u001b[39;00m], observations)\n\u001b[0;32m---> 56\u001b[0m     actions \u001b[38;5;241m=\u001b[39m \u001b[43mpretrained_model\u001b[49m\u001b[38;5;241;43m.\u001b[39;49m\u001b[43msample_actions\u001b[49m\u001b[43m(\u001b[49m\n\u001b[1;32m     57\u001b[0m \u001b[43m        \u001b[49m\u001b[43mobservations\u001b[49m\u001b[43m,\u001b[49m\n\u001b[1;32m     58\u001b[0m \u001b[43m        \u001b[49m\u001b[43mtasks\u001b[49m\u001b[43m,\u001b[49m\n\u001b[1;32m     59\u001b[0m \u001b[43m        \u001b[49m\u001b[43munnormalization_statistics\u001b[49m\u001b[38;5;241;43m=\u001b[39;49m\u001b[43mdataset_statistics\u001b[49m\u001b[43m[\u001b[49m\u001b[38;5;124;43m\"\u001b[39;49m\u001b[38;5;124;43maction\u001b[39;49m\u001b[38;5;124;43m\"\u001b[39;49m\u001b[43m]\u001b[49m\u001b[43m,\u001b[49m\n\u001b[1;32m     60\u001b[0m \u001b[43m        \u001b[49m\u001b[43mrng\u001b[49m\u001b[38;5;241;43m=\u001b[39;49m\u001b[43mrng\u001b[49m\u001b[43m,\u001b[49m\n\u001b[1;32m     61\u001b[0m \u001b[43m    \u001b[49m\u001b[43m)\u001b[49m\n\u001b[1;32m     62\u001b[0m     \u001b[38;5;66;03m# remove batch dim\u001b[39;00m\n\u001b[1;32m     63\u001b[0m     \u001b[38;5;28;01mreturn\u001b[39;00m actions[\u001b[38;5;241m0\u001b[39m]\n",
      "    \u001b[0;31m[... skipping hidden 7 frame]\u001b[0m\n",
      "File \u001b[0;32m~/miniconda3/envs/octo/lib/python3.10/site-packages/jax/_src/dtypes.py:594\u001b[0m, in \u001b[0;36mcheck_valid_dtype\u001b[0;34m(dtype)\u001b[0m\n\u001b[1;32m    592\u001b[0m \u001b[38;5;28;01mdef\u001b[39;00m \u001b[38;5;21mcheck_valid_dtype\u001b[39m(dtype: DType) \u001b[38;5;241m-\u001b[39m\u001b[38;5;241m>\u001b[39m \u001b[38;5;28;01mNone\u001b[39;00m:\n\u001b[1;32m    593\u001b[0m   \u001b[38;5;28;01mif\u001b[39;00m dtype \u001b[38;5;129;01mnot\u001b[39;00m \u001b[38;5;129;01min\u001b[39;00m _jax_dtype_set:\n\u001b[0;32m--> 594\u001b[0m     \u001b[38;5;28;01mraise\u001b[39;00m \u001b[38;5;167;01mTypeError\u001b[39;00m(\u001b[38;5;124mf\u001b[39m\u001b[38;5;124m\"\u001b[39m\u001b[38;5;124mDtype \u001b[39m\u001b[38;5;132;01m{\u001b[39;00mdtype\u001b[38;5;132;01m}\u001b[39;00m\u001b[38;5;124m is not a valid JAX array \u001b[39m\u001b[38;5;124m\"\u001b[39m\n\u001b[1;32m    595\u001b[0m                     \u001b[38;5;124m\"\u001b[39m\u001b[38;5;124mtype. Only arrays of numeric types are supported by JAX.\u001b[39m\u001b[38;5;124m\"\u001b[39m)\n",
      "\u001b[0;31mTypeError\u001b[0m: Dtype object is not a valid JAX array type. Only arrays of numeric types are supported by JAX."
     ]
    }
   ],
   "metadata": {}
  },
  {
   "cell_type": "code",
   "execution_count": 65,
   "source": [
    "observations = {\n",
    "    'image_primary': jnp.zeros((256, 2, 256, 256, 3)),\n",
    "    'image_wrist': jnp.zeros((256, 2, 128, 128, 3))\n",
    "}\n",
    "tasks = { \n",
    "    'language_instruction': jnp.zeros((1, 16))\n",
    "}\n",
    "# print(model.params['/Dense_0/kernel'])\n",
    "# rint(model.params['Dense_0']['kernel'].shape)\n",
    "OUT = model.module.apply(\n",
    "            {\"params\": model.params},\n",
    "            observations,\n",
    "            tasks,\n",
    "            method=\"__call__\"\n",
    "        )"
   ],
   "outputs": [],
   "metadata": {}
  },
  {
   "cell_type": "code",
   "execution_count": null,
   "source": [],
   "outputs": [],
   "metadata": {}
  }
 ],
 "metadata": {
  "orig_nbformat": 4,
  "language_info": {
   "name": "python",
   "version": "3.10.14",
   "mimetype": "text/x-python",
   "codemirror_mode": {
    "name": "ipython",
    "version": 3
   },
   "pygments_lexer": "ipython3",
   "nbconvert_exporter": "python",
   "file_extension": ".py"
  },
  "kernelspec": {
   "name": "python3",
   "display_name": "Python 3.10.14 64-bit ('octo': conda)"
  },
  "interpreter": {
   "hash": "f403d8570fe2ec26d1daafba18cc388bc7c4df4bdbb7e83b63f7ca08cd3052fe"
  }
 },
 "nbformat": 4,
 "nbformat_minor": 2
}